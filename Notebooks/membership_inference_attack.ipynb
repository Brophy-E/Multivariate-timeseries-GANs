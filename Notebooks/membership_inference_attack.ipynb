{
 "cells": [
  {
   "cell_type": "markdown",
   "metadata": {
    "id": "pAx1b4hebGhQ"
   },
   "source": [
    "# Multivariate Time Series Generation - Presence Disclosure with Euclidean Distance\n",
    "\n",
    "This script runs a membership inference attack on our model to assess\n",
    "presence disclosure and the ability of our Model to preserve underlying data privacy. Euclidean is used as the distance metric\n",
    "\n"
   ]
  },
  {
   "cell_type": "markdown",
   "metadata": {
    "id": "lpF00N1KbO4c"
   },
   "source": [
    "## If Using Google Colabs\n",
    "\n",
    "Mount your drive if you are running this on Colabs"
   ]
  },
  {
   "cell_type": "code",
   "execution_count": null,
   "metadata": {
    "colab": {
     "base_uri": "https://localhost:8080/"
    },
    "id": "Fkl__vyLbPWJ",
    "outputId": "7f094afe-77e9-4de8-d14b-31e990a0dd1d"
   },
   "outputs": [
    {
     "name": "stdout",
     "output_type": "stream",
     "text": [
      "Mounted at /content/drive\n"
     ]
    }
   ],
   "source": [
    "from google.colab import drive\n",
    "drive.mount('/content/drive')"
   ]
  },
  {
   "cell_type": "markdown",
   "metadata": {
    "id": "JcoZuo90bSyd"
   },
   "source": [
    "## Directories"
   ]
  },
  {
   "cell_type": "code",
   "execution_count": null,
   "metadata": {
    "id": "oGYsILVobTQ9"
   },
   "outputs": [],
   "source": [
    "import os\n",
    "os.chdir('/content/drive/My Drive/Multivariate-timeseries-GANs/')\n",
    "\n",
    "data_dir = './Data'\n",
    "results_dir = './Results/Training'"
   ]
  },
  {
   "cell_type": "markdown",
   "metadata": {
    "id": "jV9TY-z5bYsM"
   },
   "source": [
    "## Import Dependencies"
   ]
  },
  {
   "cell_type": "code",
   "execution_count": null,
   "metadata": {
    "id": "XeuQqV9l-tmx"
   },
   "outputs": [],
   "source": [
    "import torch\n",
    "\n",
    "import pandas as pd\n",
    "import numpy as np\n",
    "import json as js\n",
    "\n",
    "from matplotlib import pyplot as plt\n",
    "from scipy.spatial import distance\n",
    "from tqdm import tqdm"
   ]
  },
  {
   "cell_type": "markdown",
   "metadata": {
    "id": "X3mkaGA8bcGY"
   },
   "source": [
    "For plotting later"
   ]
  },
  {
   "cell_type": "code",
   "execution_count": null,
   "metadata": {
    "id": "Sd2NlhLtbckL"
   },
   "outputs": [],
   "source": [
    "# Colour Blind Friendly Colours\n",
    "CB_color_cycle = ['#377eb8', '#ff7f00', '#4daf4a',\n",
    "                  '#f781bf', '#a65628', '#984ea3',\n",
    "                  '#999999', '#e41a1c', '#dede00']"
   ]
  },
  {
   "cell_type": "markdown",
   "metadata": {
    "id": "1d8LYhOObkhF"
   },
   "source": [
    "## GPU"
   ]
  },
  {
   "cell_type": "code",
   "execution_count": null,
   "metadata": {
    "colab": {
     "base_uri": "https://localhost:8080/"
    },
    "id": "brLtPaJPbl18",
    "outputId": "476daa16-a70a-4bb6-8b18-e149566e5c40"
   },
   "outputs": [
    {
     "name": "stdout",
     "output_type": "stream",
     "text": [
      "Using: Tesla T4\n"
     ]
    }
   ],
   "source": [
    "device = torch.device('cuda:0' if torch.cuda.is_available() else 'cpu')\n",
    "\n",
    "if torch.cuda.is_available():\n",
    "  cuda = True\n",
    "  print('Using: ' +str(torch.cuda.get_device_name(device)))\n",
    "else:\n",
    "  cuda = False\n",
    "  print('Using: CPU')\n",
    "\n",
    "Tensor = torch.cuda.FloatTensor if cuda else torch.FloatTensor"
   ]
  },
  {
   "cell_type": "markdown",
   "metadata": {
    "id": "_w-R3yIIbfZP"
   },
   "source": [
    "## Function Definitions"
   ]
  },
  {
   "cell_type": "code",
   "execution_count": null,
   "metadata": {
    "id": "--duD6GcaNUp"
   },
   "outputs": [],
   "source": [
    "def load_params(filename):\n",
    "    with open(filename, 'r') as f:\n",
    "        param_dict = js.load(f)\n",
    "    \n",
    "    return param_dict\n",
    "\n",
    "\n",
    "def load_data(filename):\n",
    "    mv_data = torch.load(filename)\n",
    "    if len(mv_data[0,:,0]) == 188:\n",
    "        mv_data = mv_data[:, :-1, :] \n",
    "    \n",
    "    return mv_data \n",
    "\n",
    "def load_gen_data(filename):\n",
    "  gen_data = torch.load(filename)\n",
    "\n",
    "  return gen_data"
   ]
  },
  {
   "cell_type": "code",
   "execution_count": null,
   "metadata": {
    "id": "d0yNLeQdfJm_"
   },
   "outputs": [],
   "source": [
    "def mia(train_0, train_1, test_0, test_1, gen_0, gen_1, results_dir):\n",
    "\n",
    "  sample_size = np.arange(1000,11000,1000)\n",
    "  cutoff = [0.05,0.1,0.2,0.3,0.4,0.5,0.6,0.7]\n",
    "  idx = 0\n",
    "\n",
    "  fig, ax = plt.subplots(1,2,constrained_layout=True, figsize=(8,4))\n",
    "  colour = ['red','blue','green','orange','magenta','cyan','black','yellow']\n",
    "\n",
    "  pre = []\n",
    "  rec = []\n",
    "  for c in tqdm(cutoff):\n",
    "      precision = []\n",
    "      recall = []\n",
    "      for r in tqdm(sample_size):\n",
    "          \n",
    "          train_sample_0 = train_0.sample(r)\n",
    "          train_labels_0 = np.zeros((r,1)) # training flag\n",
    "          test_sample_0 = test_0.sample(r)\n",
    "          test_labels_0 = np.ones((r,1)) # training flag\n",
    "\n",
    "          sample_0 = pd.concat([train_sample_0,test_sample_0]).reset_index(drop=True)\n",
    "          sample_0 = sample_0.values\n",
    "\n",
    "          labels_0 = np.concatenate([train_labels_0,test_labels_0])\n",
    "          \n",
    "          train_sample_1 = train_1.sample(r)\n",
    "          train_labels_1 = np.zeros((r,1)) # training flag\n",
    "          test_sample_1 = test_1.sample(r)\n",
    "          test_labels_1 = np.ones((r,1)) # training flag\n",
    "\n",
    "          sample_1 = pd.concat([train_sample_1,test_sample_1]).reset_index(drop=True)\n",
    "          sample_1 = sample_1.values\n",
    "\n",
    "          labels_1 = np.concatenate([train_labels_1,test_labels_1])\n",
    "          \n",
    "          Y_0 = distance.cdist(sample_0, gen_0, 'euclidean')\n",
    "          Y_1 = distance.cdist(sample_1, gen_1, 'euclidean')\n",
    "          print(Y_0.shape)\n",
    "          \n",
    "          Y = [sum(x) for x in zip(Y_0, Y_1)]\n",
    "          Y = np.asarray(Y)\n",
    "          print(Y.shape)\n",
    "          \n",
    "          mean = np.asscalar(Y.mean())\n",
    "          threshold = c*mean \n",
    "\n",
    "          print(\"Mean Distance: \"+str(mean)+\", Sample Size: \"+str(2*r)+\", Cutoff Fraction: \"+str(c)+\", Threshold: \"+str(threshold))\n",
    "\n",
    "          min_Y = np.amin(Y, axis = 1)\n",
    "\n",
    "\n",
    "          match = labels_0[min_Y <= threshold] + labels_1[min_Y <= threshold]\n",
    "          diff = labels_0[min_Y > threshold] + labels_1[min_Y > threshold]\n",
    "          print(match.shape, diff.shape)\n",
    "\n",
    "          TP = (match == 0).sum()\n",
    "          FP = (match == 1).sum()\n",
    "          TN = (diff == 1).sum()\n",
    "          FN = (diff == 0).sum()\n",
    "          print(TP,FP, TN, FN) \n",
    "\n",
    "\n",
    "          if TP+FN == 0:\n",
    "              recall.append(None)\n",
    "          else:\n",
    "              recall.append(TP/(TP+FN))\n",
    "          if TP+FP == 0:\n",
    "              precision.append(None)\n",
    "          else:\n",
    "              precision.append( TP/(TP+FP))\n",
    "\n",
    "\n",
    "      ax[1].plot(sample_size, recall, label = (str(c)+\"*mean\"),linestyle='solid', marker='o', color = colour[idx])\n",
    "      ax[0].plot(sample_size, precision,  label = str(c)+\"*mean\", linestyle='solid',marker='o',  color = colour[idx])\n",
    "      idx = idx+1\n",
    "      pre.append(precision)\n",
    "      rec.append(recall)\n",
    "\n",
    "\n",
    "  fig.suptitle(\"Precision and Recall vs. Sample Size\", size = 'large')\n",
    "  ax[1].set_ylim([-0.1, 1.1])\n",
    "  ax[1].set_yticks([0,0.5,1])\n",
    "  ax[1].set_xlabel(\"r\", size = 'medium')\n",
    "  ax[1].set_ylabel(\"Recall\", size = 'medium')\n",
    "\n",
    "\n",
    "  ax[1].legend(title = 'ε',  fontsize = 'small')\n",
    "  ax[0].set_ylim([-0.1, 1.1])\n",
    "  ax[0].set_yticks([0,0.5, 1])\n",
    "  ax[0].set_xlabel(\"r\", size = 'medium')\n",
    "  ax[0].set_ylabel(\"Precision\", size = 'medium')\n",
    "\n",
    "  for k in range(0,2):\n",
    "      for tick in ax[k].xaxis.get_major_ticks():\n",
    "          tick.label.set_fontsize(12)\n",
    "      for tick in ax[k].yaxis.get_major_ticks():\n",
    "          tick.label.set_fontsize(12)\n",
    "\n",
    "  #fig.savefig(results_dir+'/Precision_Disclosure.pdf',format=\"pdf\")    \n",
    "  plt.show(fig)"
   ]
  },
  {
   "cell_type": "markdown",
   "metadata": {
    "id": "rOtUseFXcFul"
   },
   "source": [
    "## Setup for main loop"
   ]
  },
  {
   "cell_type": "code",
   "execution_count": null,
   "metadata": {
    "colab": {
     "base_uri": "https://localhost:8080/"
    },
    "id": "RUuhK-vCBpxt",
    "outputId": "c35196b4-e652-4207-d183-2d934be89837"
   },
   "outputs": [
    {
     "name": "stdout",
     "output_type": "stream",
     "text": [
      "Data_Shape: torch.Size([30197, 500, 2])\n",
      "torch.Size([200, 500, 2])\n"
     ]
    }
   ],
   "source": [
    "# These are the names I used for my training results directories \n",
    "\n",
    "directories = ['LSGAN_Training', 'LSGAN_ARR_Training',\n",
    "               'LSGAN_DTW_Training', 'LSGAN_DTW_ARR_Training',\n",
    "               'DTWGAN_Training', 'DTWGAN_ARR_Training',\n",
    "               'Loss-SenseGAN', 'Loss-SenseGAN_Arr',\n",
    "               'LS-GAN_DTW', 'LS-GAN_DTW_ARR']\n",
    "\n",
    "files = ['nsr_clf.pt', 'arr_clf.pt',\n",
    "         'nsr_clf.pt', 'arr_clf.pt',\n",
    "         'nsr_clf.pt', 'arr_clf.pt',\n",
    "         'nsr_clf.pt', 'arr_clf.pt',\n",
    "         'arr_clf.pt']\n",
    "\n",
    "# Load Parameters\n",
    "params = load_params(results_dir+'/parameters.json')\n",
    "# Load Data\n",
    "data = load_data('./'+data_dir+'/'+params['data'])\n",
    "\n",
    "# Load some generated data - \n",
    "## can implement for loop here if needs be\n",
    "i = 0\n",
    "\n",
    "#Load generated data\n",
    "gen_data = torch.load('./Results/'+directories[i]+'/'+files[i])\n",
    "\n",
    "# Index for data selection \n",
    "# in presence disclosure\n",
    "train_ind = 10000\n",
    "test_ind = 10000\n",
    "ind = 20000\n",
    "\n",
    "# This is broken down into two single leads but can be used as \n",
    "## multiple leads using the DTW functions from the other notebooks\n",
    "# Lead I\n",
    "train_data_0  = pd.DataFrame(data[:train_ind,:,0].detach().cpu().numpy())\n",
    "test_data_0   = pd.DataFrame(data[ind:ind+test_ind,:,0].detach().cpu().numpy())\n",
    "gen_data_0   = pd.DataFrame(gen_data[:,:,0].detach().cpu().numpy())\n",
    "\n",
    "# Lead II\n",
    "train_data_1  = pd.DataFrame(data[:train_ind,:,1].detach().cpu().numpy())\n",
    "test_data_1   = pd.DataFrame(data[ind:ind+test_ind,:,1].detach().cpu().numpy())\n",
    "gen_data_1   = pd.DataFrame(gen_data[:,:,1].detach().cpu().numpy())\n",
    "\n",
    "gen_0 = gen_data_0.values\n",
    "gen_1 = gen_data_1.values"
   ]
  },
  {
   "cell_type": "markdown",
   "metadata": {
    "id": "XJU8v9N-Y1Vh"
   },
   "source": [
    "## Membership Inference Attack\n",
    "\n",
    "Here the membership attack is called. I will be implementing the R Multivariate DTW package shorlty, it can be readily taken implemented from the other Notebooks in this repo."
   ]
  },
  {
   "cell_type": "code",
   "execution_count": null,
   "metadata": {
    "colab": {
     "base_uri": "https://localhost:8080/",
     "height": 1000
    },
    "id": "rt9qiRqHY1Vi",
    "outputId": "656fb01b-05fd-4353-e735-89d26a308b70"
   },
   "outputs": [
    {
     "name": "stderr",
     "output_type": "stream",
     "text": [
      "  0%|          | 0/8 [00:00<?, ?it/s]\n",
      "  0%|          | 0/10 [00:00<?, ?it/s]\u001b[A/usr/local/lib/python3.6/dist-packages/ipykernel_launcher.py:45: DeprecationWarning: np.asscalar(a) is deprecated since NumPy v1.16, use a.item() instead\n",
      "\n",
      " 10%|█         | 1/10 [00:00<00:02,  3.16it/s]\u001b[A"
     ]
    },
    {
     "name": "stdout",
     "output_type": "stream",
     "text": [
      "(2000, 200)\n",
      "(2000, 200)\n",
      "Mean Distance: 4.491063834301313, Sample Size: 2000, Cutoff Fraction: 0.05, Threshold: 0.22455319171506566\n",
      "(0, 1) (2000, 1)\n",
      "0 0 0 1000\n"
     ]
    },
    {
     "name": "stderr",
     "output_type": "stream",
     "text": [
      "\n",
      " 20%|██        | 2/10 [00:00<00:03,  2.44it/s]\u001b[A"
     ]
    },
    {
     "name": "stdout",
     "output_type": "stream",
     "text": [
      "(4000, 200)\n",
      "(4000, 200)\n",
      "Mean Distance: 4.498616528984835, Sample Size: 4000, Cutoff Fraction: 0.05, Threshold: 0.22493082644924176\n",
      "(0, 1) (4000, 1)\n",
      "0 0 0 2000\n"
     ]
    },
    {
     "name": "stderr",
     "output_type": "stream",
     "text": [
      "\n",
      " 30%|███       | 3/10 [00:01<00:03,  1.76it/s]\u001b[A"
     ]
    },
    {
     "name": "stdout",
     "output_type": "stream",
     "text": [
      "(6000, 200)\n",
      "(6000, 200)\n",
      "Mean Distance: 4.4938825971233385, Sample Size: 6000, Cutoff Fraction: 0.05, Threshold: 0.22469412985616694\n",
      "(0, 1) (6000, 1)\n",
      "0 0 0 3000\n"
     ]
    },
    {
     "name": "stderr",
     "output_type": "stream",
     "text": [
      "\n",
      " 40%|████      | 4/10 [00:03<00:04,  1.30it/s]\u001b[A"
     ]
    },
    {
     "name": "stdout",
     "output_type": "stream",
     "text": [
      "(8000, 200)\n",
      "(8000, 200)\n",
      "Mean Distance: 4.495231863675871, Sample Size: 8000, Cutoff Fraction: 0.05, Threshold: 0.22476159318379355\n",
      "(0, 1) (8000, 1)\n",
      "0 0 0 4000\n"
     ]
    },
    {
     "name": "stderr",
     "output_type": "stream",
     "text": [
      "\n",
      " 50%|█████     | 5/10 [00:04<00:05,  1.01s/it]\u001b[A"
     ]
    },
    {
     "name": "stdout",
     "output_type": "stream",
     "text": [
      "(10000, 200)\n",
      "(10000, 200)\n",
      "Mean Distance: 4.4937276245012825, Sample Size: 10000, Cutoff Fraction: 0.05, Threshold: 0.22468638122506412\n",
      "(0, 1) (10000, 1)\n",
      "0 0 0 5000\n"
     ]
    },
    {
     "name": "stderr",
     "output_type": "stream",
     "text": [
      "\n",
      " 60%|██████    | 6/10 [00:06<00:05,  1.27s/it]\u001b[A"
     ]
    },
    {
     "name": "stdout",
     "output_type": "stream",
     "text": [
      "(12000, 200)\n",
      "(12000, 200)\n",
      "Mean Distance: 4.492974492238442, Sample Size: 12000, Cutoff Fraction: 0.05, Threshold: 0.22464872461192212\n",
      "(0, 1) (12000, 1)\n",
      "0 0 0 6000\n"
     ]
    },
    {
     "name": "stderr",
     "output_type": "stream",
     "text": [
      "\n",
      " 70%|███████   | 7/10 [00:08<00:04,  1.54s/it]\u001b[A"
     ]
    },
    {
     "name": "stdout",
     "output_type": "stream",
     "text": [
      "(14000, 200)\n",
      "(14000, 200)\n",
      "Mean Distance: 4.493364153955035, Sample Size: 14000, Cutoff Fraction: 0.05, Threshold: 0.22466820769775175\n",
      "(0, 1) (14000, 1)\n",
      "0 0 0 7000\n"
     ]
    },
    {
     "name": "stderr",
     "output_type": "stream",
     "text": [
      "\n",
      " 80%|████████  | 8/10 [00:11<00:03,  1.82s/it]\u001b[A"
     ]
    },
    {
     "name": "stdout",
     "output_type": "stream",
     "text": [
      "(16000, 200)\n",
      "(16000, 200)\n",
      "Mean Distance: 4.493790955043303, Sample Size: 16000, Cutoff Fraction: 0.05, Threshold: 0.22468954775216515\n",
      "(0, 1) (16000, 1)\n",
      "0 0 0 8000\n"
     ]
    },
    {
     "name": "stderr",
     "output_type": "stream",
     "text": [
      "\n",
      " 90%|█████████ | 9/10 [00:13<00:02,  2.10s/it]\u001b[A"
     ]
    },
    {
     "name": "stdout",
     "output_type": "stream",
     "text": [
      "(18000, 200)\n",
      "(18000, 200)\n",
      "Mean Distance: 4.493859971806168, Sample Size: 18000, Cutoff Fraction: 0.05, Threshold: 0.2246929985903084\n",
      "(0, 1) (18000, 1)\n",
      "0 0 0 9000\n"
     ]
    },
    {
     "name": "stderr",
     "output_type": "stream",
     "text": [
      "\n",
      "100%|██████████| 10/10 [00:17<00:00,  1.70s/it]\n",
      " 12%|█▎        | 1/8 [00:17<01:59, 17.04s/it]\n",
      "  0%|          | 0/10 [00:00<?, ?it/s]\u001b[A"
     ]
    },
    {
     "name": "stdout",
     "output_type": "stream",
     "text": [
      "(20000, 200)\n",
      "(20000, 200)\n",
      "Mean Distance: 4.493554035574755, Sample Size: 20000, Cutoff Fraction: 0.05, Threshold: 0.22467770177873778\n",
      "(0, 1) (20000, 1)\n",
      "0 0 0 10000\n"
     ]
    },
    {
     "name": "stderr",
     "output_type": "stream",
     "text": [
      "/usr/local/lib/python3.6/dist-packages/ipykernel_launcher.py:45: DeprecationWarning: np.asscalar(a) is deprecated since NumPy v1.16, use a.item() instead\n",
      "\n",
      " 10%|█         | 1/10 [00:00<00:02,  3.17it/s]\u001b[A"
     ]
    },
    {
     "name": "stdout",
     "output_type": "stream",
     "text": [
      "(2000, 200)\n",
      "(2000, 200)\n",
      "Mean Distance: 4.493530443833883, Sample Size: 2000, Cutoff Fraction: 0.1, Threshold: 0.44935304438338836\n",
      "(0, 1) (2000, 1)\n",
      "0 0 0 1000\n"
     ]
    },
    {
     "name": "stderr",
     "output_type": "stream",
     "text": [
      "\n",
      " 20%|██        | 2/10 [00:00<00:03,  2.43it/s]\u001b[A"
     ]
    },
    {
     "name": "stdout",
     "output_type": "stream",
     "text": [
      "(4000, 200)\n",
      "(4000, 200)\n",
      "Mean Distance: 4.4925635806012165, Sample Size: 4000, Cutoff Fraction: 0.1, Threshold: 0.44925635806012165\n",
      "(0, 1) (4000, 1)\n",
      "0 0 0 2000\n"
     ]
    },
    {
     "name": "stderr",
     "output_type": "stream",
     "text": [
      "\n",
      " 30%|███       | 3/10 [00:01<00:04,  1.75it/s]\u001b[A"
     ]
    },
    {
     "name": "stdout",
     "output_type": "stream",
     "text": [
      "(6000, 200)\n",
      "(6000, 200)\n",
      "Mean Distance: 4.491933225679685, Sample Size: 6000, Cutoff Fraction: 0.1, Threshold: 0.4491933225679685\n",
      "(0, 1) (6000, 1)\n",
      "0 0 0 3000\n"
     ]
    },
    {
     "name": "stderr",
     "output_type": "stream",
     "text": [
      "\n",
      " 40%|████      | 4/10 [00:03<00:04,  1.29it/s]\u001b[A"
     ]
    },
    {
     "name": "stdout",
     "output_type": "stream",
     "text": [
      "(8000, 200)\n",
      "(8000, 200)\n",
      "Mean Distance: 4.493275596854193, Sample Size: 8000, Cutoff Fraction: 0.1, Threshold: 0.4493275596854194\n",
      "(0, 1) (8000, 1)\n",
      "0 0 0 4000\n"
     ]
    },
    {
     "name": "stderr",
     "output_type": "stream",
     "text": [
      "\n",
      " 50%|█████     | 5/10 [00:04<00:05,  1.01s/it]\u001b[A"
     ]
    },
    {
     "name": "stdout",
     "output_type": "stream",
     "text": [
      "(10000, 200)\n",
      "(10000, 200)\n",
      "Mean Distance: 4.492538740988797, Sample Size: 10000, Cutoff Fraction: 0.1, Threshold: 0.44925387409887974\n",
      "(0, 1) (10000, 1)\n",
      "0 0 0 5000\n"
     ]
    },
    {
     "name": "stderr",
     "output_type": "stream",
     "text": [
      "\n",
      " 60%|██████    | 6/10 [00:06<00:05,  1.27s/it]\u001b[A"
     ]
    },
    {
     "name": "stdout",
     "output_type": "stream",
     "text": [
      "(12000, 200)\n",
      "(12000, 200)\n",
      "Mean Distance: 4.495037989788562, Sample Size: 12000, Cutoff Fraction: 0.1, Threshold: 0.44950379897885623\n",
      "(0, 1) (12000, 1)\n",
      "0 0 0 6000\n"
     ]
    },
    {
     "name": "stderr",
     "output_type": "stream",
     "text": [
      "\n",
      " 70%|███████   | 7/10 [00:08<00:04,  1.54s/it]\u001b[A"
     ]
    },
    {
     "name": "stdout",
     "output_type": "stream",
     "text": [
      "(14000, 200)\n",
      "(14000, 200)\n",
      "Mean Distance: 4.493018615023618, Sample Size: 14000, Cutoff Fraction: 0.1, Threshold: 0.44930186150236184\n",
      "(0, 1) (14000, 1)\n",
      "0 0 0 7000\n"
     ]
    },
    {
     "name": "stderr",
     "output_type": "stream",
     "text": [
      "\n",
      " 80%|████████  | 8/10 [00:11<00:03,  1.82s/it]\u001b[A"
     ]
    },
    {
     "name": "stdout",
     "output_type": "stream",
     "text": [
      "(16000, 200)\n",
      "(16000, 200)\n",
      "Mean Distance: 4.493046030354321, Sample Size: 16000, Cutoff Fraction: 0.1, Threshold: 0.4493046030354322\n",
      "(0, 1) (16000, 1)\n",
      "0 0 0 8000\n"
     ]
    },
    {
     "name": "stderr",
     "output_type": "stream",
     "text": [
      "\n",
      " 90%|█████████ | 9/10 [00:13<00:02,  2.11s/it]\u001b[A"
     ]
    },
    {
     "name": "stdout",
     "output_type": "stream",
     "text": [
      "(18000, 200)\n",
      "(18000, 200)\n",
      "Mean Distance: 4.4935605834698364, Sample Size: 18000, Cutoff Fraction: 0.1, Threshold: 0.44935605834698367\n",
      "(0, 1) (18000, 1)\n",
      "0 0 0 9000\n"
     ]
    },
    {
     "name": "stderr",
     "output_type": "stream",
     "text": [
      "\n",
      "100%|██████████| 10/10 [00:17<00:00,  1.71s/it]\n",
      " 25%|██▌       | 2/8 [00:34<01:42, 17.06s/it]\n",
      "  0%|          | 0/10 [00:00<?, ?it/s]\u001b[A"
     ]
    },
    {
     "name": "stdout",
     "output_type": "stream",
     "text": [
      "(20000, 200)\n",
      "(20000, 200)\n",
      "Mean Distance: 4.493554035574759, Sample Size: 20000, Cutoff Fraction: 0.1, Threshold: 0.4493554035574759\n",
      "(0, 1) (20000, 1)\n",
      "0 0 0 10000\n"
     ]
    },
    {
     "name": "stderr",
     "output_type": "stream",
     "text": [
      "/usr/local/lib/python3.6/dist-packages/ipykernel_launcher.py:45: DeprecationWarning: np.asscalar(a) is deprecated since NumPy v1.16, use a.item() instead\n",
      "\n",
      " 10%|█         | 1/10 [00:00<00:02,  3.22it/s]\u001b[A"
     ]
    },
    {
     "name": "stdout",
     "output_type": "stream",
     "text": [
      "(2000, 200)\n",
      "(2000, 200)\n",
      "Mean Distance: 4.4890498801110965, Sample Size: 2000, Cutoff Fraction: 0.2, Threshold: 0.8978099760222193\n",
      "(0, 1) (2000, 1)\n",
      "0 0 0 1000\n"
     ]
    },
    {
     "name": "stderr",
     "output_type": "stream",
     "text": [
      "\n",
      " 20%|██        | 2/10 [00:00<00:03,  2.48it/s]\u001b[A"
     ]
    },
    {
     "name": "stdout",
     "output_type": "stream",
     "text": [
      "(4000, 200)\n",
      "(4000, 200)\n",
      "Mean Distance: 4.494047826003488, Sample Size: 4000, Cutoff Fraction: 0.2, Threshold: 0.8988095652006977\n",
      "(0, 1) (4000, 1)\n",
      "0 0 0 2000\n"
     ]
    },
    {
     "name": "stderr",
     "output_type": "stream",
     "text": [
      "\n",
      " 30%|███       | 3/10 [00:01<00:03,  1.78it/s]\u001b[A"
     ]
    },
    {
     "name": "stdout",
     "output_type": "stream",
     "text": [
      "(6000, 200)\n",
      "(6000, 200)\n",
      "Mean Distance: 4.492939408268857, Sample Size: 6000, Cutoff Fraction: 0.2, Threshold: 0.8985878816537713\n",
      "(0, 1) (6000, 1)\n",
      "0 0 0 3000\n"
     ]
    },
    {
     "name": "stderr",
     "output_type": "stream",
     "text": [
      "\n",
      " 40%|████      | 4/10 [00:03<00:04,  1.30it/s]\u001b[A"
     ]
    },
    {
     "name": "stdout",
     "output_type": "stream",
     "text": [
      "(8000, 200)\n",
      "(8000, 200)\n",
      "Mean Distance: 4.494275088244025, Sample Size: 8000, Cutoff Fraction: 0.2, Threshold: 0.8988550176488052\n",
      "(0, 1) (8000, 1)\n",
      "0 0 0 4000\n"
     ]
    },
    {
     "name": "stderr",
     "output_type": "stream",
     "text": [
      "\n",
      " 50%|█████     | 5/10 [00:04<00:04,  1.00it/s]\u001b[A"
     ]
    },
    {
     "name": "stdout",
     "output_type": "stream",
     "text": [
      "(10000, 200)\n",
      "(10000, 200)\n",
      "Mean Distance: 4.493138243861436, Sample Size: 10000, Cutoff Fraction: 0.2, Threshold: 0.8986276487722873\n",
      "(0, 1) (10000, 1)\n",
      "0 0 0 5000\n"
     ]
    },
    {
     "name": "stderr",
     "output_type": "stream",
     "text": [
      "\n",
      " 60%|██████    | 6/10 [00:06<00:05,  1.26s/it]\u001b[A"
     ]
    },
    {
     "name": "stdout",
     "output_type": "stream",
     "text": [
      "(12000, 200)\n",
      "(12000, 200)\n",
      "Mean Distance: 4.491992574358972, Sample Size: 12000, Cutoff Fraction: 0.2, Threshold: 0.8983985148717943\n",
      "(0, 1) (12000, 1)\n",
      "0 0 0 6000\n"
     ]
    },
    {
     "name": "stderr",
     "output_type": "stream",
     "text": [
      "\n",
      " 70%|███████   | 7/10 [00:08<00:04,  1.53s/it]\u001b[A"
     ]
    },
    {
     "name": "stdout",
     "output_type": "stream",
     "text": [
      "(14000, 200)\n",
      "(14000, 200)\n",
      "Mean Distance: 4.4947175353867035, Sample Size: 14000, Cutoff Fraction: 0.2, Threshold: 0.8989435070773407\n",
      "(0, 1) (14000, 1)\n",
      "0 0 0 7000\n"
     ]
    },
    {
     "name": "stderr",
     "output_type": "stream",
     "text": [
      "\n",
      " 80%|████████  | 8/10 [00:11<00:03,  1.82s/it]\u001b[A"
     ]
    },
    {
     "name": "stdout",
     "output_type": "stream",
     "text": [
      "(16000, 200)\n",
      "(16000, 200)\n",
      "Mean Distance: 4.4933799749451815, Sample Size: 16000, Cutoff Fraction: 0.2, Threshold: 0.8986759949890364\n",
      "(0, 1) (16000, 1)\n",
      "0 0 0 8000\n"
     ]
    },
    {
     "name": "stderr",
     "output_type": "stream",
     "text": [
      "\n",
      " 90%|█████████ | 9/10 [00:13<00:02,  2.11s/it]\u001b[A"
     ]
    },
    {
     "name": "stdout",
     "output_type": "stream",
     "text": [
      "(18000, 200)\n",
      "(18000, 200)\n",
      "Mean Distance: 4.49352100102131, Sample Size: 18000, Cutoff Fraction: 0.2, Threshold: 0.898704200204262\n",
      "(0, 1) (18000, 1)\n",
      "0 0 0 9000\n"
     ]
    },
    {
     "name": "stderr",
     "output_type": "stream",
     "text": [
      "\n",
      "100%|██████████| 10/10 [00:17<00:00,  1.71s/it]\n",
      " 38%|███▊      | 3/8 [00:51<01:25, 17.07s/it]\n",
      "  0%|          | 0/10 [00:00<?, ?it/s]\u001b[A"
     ]
    },
    {
     "name": "stdout",
     "output_type": "stream",
     "text": [
      "(20000, 200)\n",
      "(20000, 200)\n",
      "Mean Distance: 4.493554035574753, Sample Size: 20000, Cutoff Fraction: 0.2, Threshold: 0.8987108071149508\n",
      "(0, 1) (20000, 1)\n",
      "0 0 0 10000\n"
     ]
    },
    {
     "name": "stderr",
     "output_type": "stream",
     "text": [
      "/usr/local/lib/python3.6/dist-packages/ipykernel_launcher.py:45: DeprecationWarning: np.asscalar(a) is deprecated since NumPy v1.16, use a.item() instead\n",
      "\n",
      " 10%|█         | 1/10 [00:00<00:02,  3.17it/s]\u001b[A"
     ]
    },
    {
     "name": "stdout",
     "output_type": "stream",
     "text": [
      "(2000, 200)\n",
      "(2000, 200)\n",
      "Mean Distance: 4.494898244005647, Sample Size: 2000, Cutoff Fraction: 0.3, Threshold: 1.348469473201694\n",
      "(0, 1) (2000, 1)\n",
      "0 0 0 1000\n"
     ]
    },
    {
     "name": "stderr",
     "output_type": "stream",
     "text": [
      "\n",
      " 20%|██        | 2/10 [00:00<00:03,  2.45it/s]\u001b[A"
     ]
    },
    {
     "name": "stdout",
     "output_type": "stream",
     "text": [
      "(4000, 200)\n",
      "(4000, 200)\n",
      "Mean Distance: 4.494366083303087, Sample Size: 4000, Cutoff Fraction: 0.3, Threshold: 1.3483098249909262\n",
      "(0, 1) (4000, 1)\n",
      "0 0 0 2000\n"
     ]
    },
    {
     "name": "stderr",
     "output_type": "stream",
     "text": [
      "\n",
      " 30%|███       | 3/10 [00:01<00:03,  1.76it/s]\u001b[A"
     ]
    },
    {
     "name": "stdout",
     "output_type": "stream",
     "text": [
      "(6000, 200)\n",
      "(6000, 200)\n",
      "Mean Distance: 4.492165241226259, Sample Size: 6000, Cutoff Fraction: 0.3, Threshold: 1.3476495723678779\n",
      "(0, 1) (6000, 1)\n",
      "0 0 0 3000\n"
     ]
    },
    {
     "name": "stderr",
     "output_type": "stream",
     "text": [
      "\n",
      " 40%|████      | 4/10 [00:03<00:04,  1.28it/s]\u001b[A"
     ]
    },
    {
     "name": "stdout",
     "output_type": "stream",
     "text": [
      "(8000, 200)\n",
      "(8000, 200)\n",
      "Mean Distance: 4.492796897488918, Sample Size: 8000, Cutoff Fraction: 0.3, Threshold: 1.3478390692466753\n",
      "(0, 1) (8000, 1)\n",
      "0 0 0 4000\n"
     ]
    },
    {
     "name": "stderr",
     "output_type": "stream",
     "text": [
      "\n",
      " 50%|█████     | 5/10 [00:04<00:05,  1.02s/it]\u001b[A"
     ]
    },
    {
     "name": "stdout",
     "output_type": "stream",
     "text": [
      "(10000, 200)\n",
      "(10000, 200)\n",
      "Mean Distance: 4.49321367934393, Sample Size: 10000, Cutoff Fraction: 0.3, Threshold: 1.347964103803179\n",
      "(0, 1) (10000, 1)\n",
      "0 0 0 5000\n"
     ]
    },
    {
     "name": "stderr",
     "output_type": "stream",
     "text": [
      "\n",
      " 60%|██████    | 6/10 [00:06<00:05,  1.28s/it]\u001b[A"
     ]
    },
    {
     "name": "stdout",
     "output_type": "stream",
     "text": [
      "(12000, 200)\n",
      "(12000, 200)\n",
      "Mean Distance: 4.4939076581548285, Sample Size: 12000, Cutoff Fraction: 0.3, Threshold: 1.3481722974464485\n",
      "(0, 1) (12000, 1)\n",
      "0 0 0 6000\n"
     ]
    },
    {
     "name": "stderr",
     "output_type": "stream",
     "text": [
      "\n",
      " 70%|███████   | 7/10 [00:08<00:04,  1.56s/it]\u001b[A"
     ]
    },
    {
     "name": "stdout",
     "output_type": "stream",
     "text": [
      "(14000, 200)\n",
      "(14000, 200)\n",
      "Mean Distance: 4.495056073349461, Sample Size: 14000, Cutoff Fraction: 0.3, Threshold: 1.3485168220048382\n",
      "(0, 1) (14000, 1)\n",
      "0 0 0 7000\n"
     ]
    },
    {
     "name": "stderr",
     "output_type": "stream",
     "text": [
      "\n",
      " 80%|████████  | 8/10 [00:11<00:03,  1.85s/it]\u001b[A"
     ]
    },
    {
     "name": "stdout",
     "output_type": "stream",
     "text": [
      "(16000, 200)\n",
      "(16000, 200)\n",
      "Mean Distance: 4.493774897580876, Sample Size: 16000, Cutoff Fraction: 0.3, Threshold: 1.3481324692742627\n",
      "(0, 1) (16000, 1)\n",
      "0 0 0 8000\n"
     ]
    },
    {
     "name": "stderr",
     "output_type": "stream",
     "text": [
      "\n",
      " 90%|█████████ | 9/10 [00:14<00:02,  2.13s/it]\u001b[A"
     ]
    },
    {
     "name": "stdout",
     "output_type": "stream",
     "text": [
      "(18000, 200)\n",
      "(18000, 200)\n",
      "Mean Distance: 4.493442032968547, Sample Size: 18000, Cutoff Fraction: 0.3, Threshold: 1.348032609890564\n",
      "(0, 1) (18000, 1)\n",
      "0 0 0 9000\n"
     ]
    },
    {
     "name": "stderr",
     "output_type": "stream",
     "text": [
      "\n",
      "100%|██████████| 10/10 [00:17<00:00,  1.72s/it]\n",
      " 50%|█████     | 4/8 [01:08<01:08, 17.12s/it]\n",
      "  0%|          | 0/10 [00:00<?, ?it/s]\u001b[A"
     ]
    },
    {
     "name": "stdout",
     "output_type": "stream",
     "text": [
      "(20000, 200)\n",
      "(20000, 200)\n",
      "Mean Distance: 4.493554035574758, Sample Size: 20000, Cutoff Fraction: 0.3, Threshold: 1.3480662106724273\n",
      "(0, 1) (20000, 1)\n",
      "0 0 0 10000\n"
     ]
    },
    {
     "name": "stderr",
     "output_type": "stream",
     "text": [
      "/usr/local/lib/python3.6/dist-packages/ipykernel_launcher.py:45: DeprecationWarning: np.asscalar(a) is deprecated since NumPy v1.16, use a.item() instead\n",
      "\n",
      " 10%|█         | 1/10 [00:00<00:02,  3.17it/s]\u001b[A"
     ]
    },
    {
     "name": "stdout",
     "output_type": "stream",
     "text": [
      "(2000, 200)\n",
      "(2000, 200)\n",
      "Mean Distance: 4.48720716772082, Sample Size: 2000, Cutoff Fraction: 0.4, Threshold: 1.7948828670883281\n",
      "(0, 1) (2000, 1)\n",
      "0 0 0 1000\n"
     ]
    },
    {
     "name": "stderr",
     "output_type": "stream",
     "text": [
      "\n",
      " 20%|██        | 2/10 [00:00<00:03,  2.48it/s]\u001b[A"
     ]
    },
    {
     "name": "stdout",
     "output_type": "stream",
     "text": [
      "(4000, 200)\n",
      "(4000, 200)\n",
      "Mean Distance: 4.491615716272365, Sample Size: 4000, Cutoff Fraction: 0.4, Threshold: 1.7966462865089463\n",
      "(0, 1) (4000, 1)\n",
      "0 0 0 2000\n"
     ]
    },
    {
     "name": "stderr",
     "output_type": "stream",
     "text": [
      "\n",
      " 30%|███       | 3/10 [00:01<00:03,  1.78it/s]\u001b[A"
     ]
    },
    {
     "name": "stdout",
     "output_type": "stream",
     "text": [
      "(6000, 200)\n",
      "(6000, 200)\n",
      "Mean Distance: 4.493612229399517, Sample Size: 6000, Cutoff Fraction: 0.4, Threshold: 1.797444891759807\n",
      "(0, 1) (6000, 1)\n",
      "0 0 0 3000\n"
     ]
    },
    {
     "name": "stderr",
     "output_type": "stream",
     "text": [
      "\n",
      " 40%|████      | 4/10 [00:03<00:04,  1.30it/s]\u001b[A"
     ]
    },
    {
     "name": "stdout",
     "output_type": "stream",
     "text": [
      "(8000, 200)\n",
      "(8000, 200)\n",
      "Mean Distance: 4.4944809010930316, Sample Size: 8000, Cutoff Fraction: 0.4, Threshold: 1.7977923604372128\n",
      "(0, 1) (8000, 1)\n",
      "0 0 0 4000\n"
     ]
    },
    {
     "name": "stderr",
     "output_type": "stream",
     "text": [
      "\n",
      " 50%|█████     | 5/10 [00:04<00:04,  1.00it/s]\u001b[A"
     ]
    },
    {
     "name": "stdout",
     "output_type": "stream",
     "text": [
      "(10000, 200)\n",
      "(10000, 200)\n",
      "Mean Distance: 4.4915875682571, Sample Size: 10000, Cutoff Fraction: 0.4, Threshold: 1.7966350273028402\n",
      "(0, 1) (10000, 1)\n",
      "0 0 0 5000\n"
     ]
    },
    {
     "name": "stderr",
     "output_type": "stream",
     "text": [
      "\n",
      " 60%|██████    | 6/10 [00:06<00:05,  1.26s/it]\u001b[A"
     ]
    },
    {
     "name": "stdout",
     "output_type": "stream",
     "text": [
      "(12000, 200)\n",
      "(12000, 200)\n",
      "Mean Distance: 4.493445532327405, Sample Size: 12000, Cutoff Fraction: 0.4, Threshold: 1.797378212930962\n",
      "(0, 1) (12000, 1)\n",
      "0 0 0 6000\n"
     ]
    },
    {
     "name": "stderr",
     "output_type": "stream",
     "text": [
      "\n",
      " 70%|███████   | 7/10 [00:08<00:04,  1.53s/it]\u001b[A"
     ]
    },
    {
     "name": "stdout",
     "output_type": "stream",
     "text": [
      "(14000, 200)\n",
      "(14000, 200)\n",
      "Mean Distance: 4.493215097813146, Sample Size: 14000, Cutoff Fraction: 0.4, Threshold: 1.7972860391252585\n",
      "(0, 1) (14000, 1)\n",
      "0 0 0 7000\n"
     ]
    },
    {
     "name": "stderr",
     "output_type": "stream",
     "text": [
      "\n",
      " 80%|████████  | 8/10 [00:11<00:03,  1.83s/it]\u001b[A"
     ]
    },
    {
     "name": "stdout",
     "output_type": "stream",
     "text": [
      "(16000, 200)\n",
      "(16000, 200)\n",
      "Mean Distance: 4.493663445510064, Sample Size: 16000, Cutoff Fraction: 0.4, Threshold: 1.7974653782040257\n",
      "(0, 1) (16000, 1)\n",
      "0 0 0 8000\n"
     ]
    },
    {
     "name": "stderr",
     "output_type": "stream",
     "text": [
      "\n",
      " 90%|█████████ | 9/10 [00:14<00:02,  2.12s/it]\u001b[A"
     ]
    },
    {
     "name": "stdout",
     "output_type": "stream",
     "text": [
      "(18000, 200)\n",
      "(18000, 200)\n",
      "Mean Distance: 4.493370161087595, Sample Size: 18000, Cutoff Fraction: 0.4, Threshold: 1.7973480644350381\n",
      "(0, 1) (18000, 1)\n",
      "0 0 0 9000\n"
     ]
    },
    {
     "name": "stderr",
     "output_type": "stream",
     "text": [
      "\n",
      "100%|██████████| 10/10 [00:17<00:00,  1.71s/it]\n",
      " 62%|██████▎   | 5/8 [01:25<00:51, 17.13s/it]\n",
      "  0%|          | 0/10 [00:00<?, ?it/s]\u001b[A"
     ]
    },
    {
     "name": "stdout",
     "output_type": "stream",
     "text": [
      "(20000, 200)\n",
      "(20000, 200)\n",
      "Mean Distance: 4.493554035574757, Sample Size: 20000, Cutoff Fraction: 0.4, Threshold: 1.7974216142299029\n",
      "(0, 1) (20000, 1)\n",
      "0 0 0 10000\n"
     ]
    },
    {
     "name": "stderr",
     "output_type": "stream",
     "text": [
      "/usr/local/lib/python3.6/dist-packages/ipykernel_launcher.py:45: DeprecationWarning: np.asscalar(a) is deprecated since NumPy v1.16, use a.item() instead\n",
      "\n",
      " 10%|█         | 1/10 [00:00<00:02,  3.20it/s]\u001b[A"
     ]
    },
    {
     "name": "stdout",
     "output_type": "stream",
     "text": [
      "(2000, 200)\n",
      "(2000, 200)\n",
      "Mean Distance: 4.491740168238312, Sample Size: 2000, Cutoff Fraction: 0.5, Threshold: 2.245870084119156\n",
      "(0, 1) (2000, 1)\n",
      "0 0 0 1000\n"
     ]
    },
    {
     "name": "stderr",
     "output_type": "stream",
     "text": [
      "\n",
      " 20%|██        | 2/10 [00:00<00:03,  2.45it/s]\u001b[A"
     ]
    },
    {
     "name": "stdout",
     "output_type": "stream",
     "text": [
      "(4000, 200)\n",
      "(4000, 200)\n",
      "Mean Distance: 4.492920451703862, Sample Size: 4000, Cutoff Fraction: 0.5, Threshold: 2.246460225851931\n",
      "(0, 1) (4000, 1)\n",
      "0 0 0 2000\n"
     ]
    },
    {
     "name": "stderr",
     "output_type": "stream",
     "text": [
      "\n",
      " 30%|███       | 3/10 [00:01<00:03,  1.77it/s]\u001b[A"
     ]
    },
    {
     "name": "stdout",
     "output_type": "stream",
     "text": [
      "(6000, 200)\n",
      "(6000, 200)\n",
      "Mean Distance: 4.49516612840756, Sample Size: 6000, Cutoff Fraction: 0.5, Threshold: 2.24758306420378\n",
      "(0, 1) (6000, 1)\n",
      "0 0 0 3000\n"
     ]
    },
    {
     "name": "stderr",
     "output_type": "stream",
     "text": [
      "\n",
      " 40%|████      | 4/10 [00:03<00:04,  1.30it/s]\u001b[A"
     ]
    },
    {
     "name": "stdout",
     "output_type": "stream",
     "text": [
      "(8000, 200)\n",
      "(8000, 200)\n",
      "Mean Distance: 4.4928368081955705, Sample Size: 8000, Cutoff Fraction: 0.5, Threshold: 2.2464184040977853\n",
      "(0, 1) (8000, 1)\n",
      "0 0 0 4000\n"
     ]
    },
    {
     "name": "stderr",
     "output_type": "stream",
     "text": [
      "\n",
      " 50%|█████     | 5/10 [00:04<00:05,  1.01s/it]\u001b[A"
     ]
    },
    {
     "name": "stdout",
     "output_type": "stream",
     "text": [
      "(10000, 200)\n",
      "(10000, 200)\n",
      "Mean Distance: 4.493961169271733, Sample Size: 10000, Cutoff Fraction: 0.5, Threshold: 2.2469805846358666\n",
      "(0, 1) (10000, 1)\n",
      "0 0 0 5000\n"
     ]
    },
    {
     "name": "stderr",
     "output_type": "stream",
     "text": [
      "\n",
      " 60%|██████    | 6/10 [00:06<00:05,  1.27s/it]\u001b[A"
     ]
    },
    {
     "name": "stdout",
     "output_type": "stream",
     "text": [
      "(12000, 200)\n",
      "(12000, 200)\n",
      "Mean Distance: 4.4942968972401065, Sample Size: 12000, Cutoff Fraction: 0.5, Threshold: 2.2471484486200533\n",
      "(0, 1) (12000, 1)\n",
      "0 0 0 6000\n"
     ]
    },
    {
     "name": "stderr",
     "output_type": "stream",
     "text": [
      "\n",
      " 70%|███████   | 7/10 [00:08<00:04,  1.54s/it]\u001b[A"
     ]
    },
    {
     "name": "stdout",
     "output_type": "stream",
     "text": [
      "(14000, 200)\n",
      "(14000, 200)\n",
      "Mean Distance: 4.493592974477796, Sample Size: 14000, Cutoff Fraction: 0.5, Threshold: 2.246796487238898\n",
      "(0, 1) (14000, 1)\n",
      "0 0 0 7000\n"
     ]
    },
    {
     "name": "stderr",
     "output_type": "stream",
     "text": [
      "\n",
      " 80%|████████  | 8/10 [00:11<00:03,  1.84s/it]\u001b[A"
     ]
    },
    {
     "name": "stdout",
     "output_type": "stream",
     "text": [
      "(16000, 200)\n",
      "(16000, 200)\n",
      "Mean Distance: 4.493210854797149, Sample Size: 16000, Cutoff Fraction: 0.5, Threshold: 2.2466054273985745\n",
      "(0, 1) (16000, 1)\n",
      "0 0 0 8000\n"
     ]
    },
    {
     "name": "stderr",
     "output_type": "stream",
     "text": [
      "\n",
      " 90%|█████████ | 9/10 [00:14<00:02,  2.13s/it]\u001b[A"
     ]
    },
    {
     "name": "stdout",
     "output_type": "stream",
     "text": [
      "(18000, 200)\n",
      "(18000, 200)\n",
      "Mean Distance: 4.493438391451293, Sample Size: 18000, Cutoff Fraction: 0.5, Threshold: 2.2467191957256465\n",
      "(0, 1) (18000, 1)\n",
      "0 0 0 9000\n"
     ]
    },
    {
     "name": "stderr",
     "output_type": "stream",
     "text": [
      "\n",
      "100%|██████████| 10/10 [00:17<00:00,  1.72s/it]\n",
      " 75%|███████▌  | 6/8 [01:42<00:34, 17.15s/it]\n",
      "  0%|          | 0/10 [00:00<?, ?it/s]\u001b[A"
     ]
    },
    {
     "name": "stdout",
     "output_type": "stream",
     "text": [
      "(20000, 200)\n",
      "(20000, 200)\n",
      "Mean Distance: 4.493554035574755, Sample Size: 20000, Cutoff Fraction: 0.5, Threshold: 2.2467770177873776\n",
      "(0, 1) (20000, 1)\n",
      "0 0 0 10000\n"
     ]
    },
    {
     "name": "stderr",
     "output_type": "stream",
     "text": [
      "/usr/local/lib/python3.6/dist-packages/ipykernel_launcher.py:45: DeprecationWarning: np.asscalar(a) is deprecated since NumPy v1.16, use a.item() instead\n",
      "\n",
      " 10%|█         | 1/10 [00:00<00:02,  3.18it/s]\u001b[A"
     ]
    },
    {
     "name": "stdout",
     "output_type": "stream",
     "text": [
      "(2000, 200)\n",
      "(2000, 200)\n",
      "Mean Distance: 4.496214157242092, Sample Size: 2000, Cutoff Fraction: 0.6, Threshold: 2.6977284943452555\n",
      "(0, 1) (2000, 1)\n",
      "0 0 0 1000\n"
     ]
    },
    {
     "name": "stderr",
     "output_type": "stream",
     "text": [
      "\n",
      " 20%|██        | 2/10 [00:00<00:03,  2.45it/s]\u001b[A"
     ]
    },
    {
     "name": "stdout",
     "output_type": "stream",
     "text": [
      "(4000, 200)\n",
      "(4000, 200)\n",
      "Mean Distance: 4.492424808041397, Sample Size: 4000, Cutoff Fraction: 0.6, Threshold: 2.695454884824838\n",
      "(0, 1) (4000, 1)\n",
      "0 0 0 2000\n"
     ]
    },
    {
     "name": "stderr",
     "output_type": "stream",
     "text": [
      "\n",
      " 30%|███       | 3/10 [00:01<00:03,  1.76it/s]\u001b[A"
     ]
    },
    {
     "name": "stdout",
     "output_type": "stream",
     "text": [
      "(6000, 200)\n",
      "(6000, 200)\n",
      "Mean Distance: 4.493808367793672, Sample Size: 6000, Cutoff Fraction: 0.6, Threshold: 2.6962850206762035\n",
      "(0, 1) (6000, 1)\n",
      "0 0 0 3000\n"
     ]
    },
    {
     "name": "stderr",
     "output_type": "stream",
     "text": [
      "\n",
      " 40%|████      | 4/10 [00:03<00:04,  1.31it/s]\u001b[A"
     ]
    },
    {
     "name": "stdout",
     "output_type": "stream",
     "text": [
      "(8000, 200)\n",
      "(8000, 200)\n",
      "Mean Distance: 4.495047830297589, Sample Size: 8000, Cutoff Fraction: 0.6, Threshold: 2.6970286981785536\n",
      "(0, 1) (8000, 1)\n",
      "0 0 0 4000\n"
     ]
    },
    {
     "name": "stderr",
     "output_type": "stream",
     "text": [
      "\n",
      " 50%|█████     | 5/10 [00:04<00:05,  1.00s/it]\u001b[A"
     ]
    },
    {
     "name": "stdout",
     "output_type": "stream",
     "text": [
      "(10000, 200)\n",
      "(10000, 200)\n",
      "Mean Distance: 4.494230304037619, Sample Size: 10000, Cutoff Fraction: 0.6, Threshold: 2.696538182422571\n",
      "(0, 1) (10000, 1)\n",
      "0 0 0 5000\n"
     ]
    },
    {
     "name": "stderr",
     "output_type": "stream",
     "text": [
      "\n",
      " 60%|██████    | 6/10 [00:06<00:05,  1.26s/it]\u001b[A"
     ]
    },
    {
     "name": "stdout",
     "output_type": "stream",
     "text": [
      "(12000, 200)\n",
      "(12000, 200)\n",
      "Mean Distance: 4.492978820866882, Sample Size: 12000, Cutoff Fraction: 0.6, Threshold: 2.695787292520129\n",
      "(0, 1) (12000, 1)\n",
      "0 0 0 6000\n"
     ]
    },
    {
     "name": "stderr",
     "output_type": "stream",
     "text": [
      "\n",
      " 70%|███████   | 7/10 [00:08<00:04,  1.53s/it]\u001b[A"
     ]
    },
    {
     "name": "stdout",
     "output_type": "stream",
     "text": [
      "(14000, 200)\n",
      "(14000, 200)\n",
      "Mean Distance: 4.493358281222911, Sample Size: 14000, Cutoff Fraction: 0.6, Threshold: 2.696014968733747\n",
      "(0, 1) (14000, 1)\n",
      "0 0 0 7000\n"
     ]
    },
    {
     "name": "stderr",
     "output_type": "stream",
     "text": [
      "\n",
      " 80%|████████  | 8/10 [00:11<00:03,  1.82s/it]\u001b[A"
     ]
    },
    {
     "name": "stdout",
     "output_type": "stream",
     "text": [
      "(16000, 200)\n",
      "(16000, 200)\n",
      "Mean Distance: 4.492620877867678, Sample Size: 16000, Cutoff Fraction: 0.6, Threshold: 2.6955725267206065\n",
      "(0, 1) (16000, 1)\n",
      "0 0 0 8000\n"
     ]
    },
    {
     "name": "stderr",
     "output_type": "stream",
     "text": [
      "\n",
      " 90%|█████████ | 9/10 [00:13<00:02,  2.11s/it]\u001b[A"
     ]
    },
    {
     "name": "stdout",
     "output_type": "stream",
     "text": [
      "(18000, 200)\n",
      "(18000, 200)\n",
      "Mean Distance: 4.493167890750154, Sample Size: 18000, Cutoff Fraction: 0.6, Threshold: 2.6959007344500923\n",
      "(0, 1) (18000, 1)\n",
      "0 0 0 9000\n"
     ]
    },
    {
     "name": "stderr",
     "output_type": "stream",
     "text": [
      "\n",
      "100%|██████████| 10/10 [00:17<00:00,  1.71s/it]\n",
      " 88%|████████▊ | 7/8 [01:59<00:17, 17.13s/it]\n",
      "  0%|          | 0/10 [00:00<?, ?it/s]\u001b[A"
     ]
    },
    {
     "name": "stdout",
     "output_type": "stream",
     "text": [
      "(20000, 200)\n",
      "(20000, 200)\n",
      "Mean Distance: 4.493554035574759, Sample Size: 20000, Cutoff Fraction: 0.6, Threshold: 2.696132421344855\n",
      "(0, 1) (20000, 1)\n",
      "0 0 0 10000\n"
     ]
    },
    {
     "name": "stderr",
     "output_type": "stream",
     "text": [
      "/usr/local/lib/python3.6/dist-packages/ipykernel_launcher.py:45: DeprecationWarning: np.asscalar(a) is deprecated since NumPy v1.16, use a.item() instead\n",
      "\n",
      " 10%|█         | 1/10 [00:00<00:02,  3.13it/s]\u001b[A"
     ]
    },
    {
     "name": "stdout",
     "output_type": "stream",
     "text": [
      "(2000, 200)\n",
      "(2000, 200)\n",
      "Mean Distance: 4.497463622539026, Sample Size: 2000, Cutoff Fraction: 0.7, Threshold: 3.1482245357773184\n",
      "(0, 1) (2000, 1)\n",
      "0 0 0 1000\n"
     ]
    },
    {
     "name": "stderr",
     "output_type": "stream",
     "text": [
      "\n",
      " 20%|██        | 2/10 [00:00<00:03,  2.43it/s]\u001b[A"
     ]
    },
    {
     "name": "stdout",
     "output_type": "stream",
     "text": [
      "(4000, 200)\n",
      "(4000, 200)\n",
      "Mean Distance: 4.494052357304632, Sample Size: 4000, Cutoff Fraction: 0.7, Threshold: 3.1458366501132424\n",
      "(0, 1) (4000, 1)\n",
      "0 0 0 2000\n"
     ]
    },
    {
     "name": "stderr",
     "output_type": "stream",
     "text": [
      "\n",
      " 30%|███       | 3/10 [00:01<00:03,  1.76it/s]\u001b[A"
     ]
    },
    {
     "name": "stdout",
     "output_type": "stream",
     "text": [
      "(6000, 200)\n",
      "(6000, 200)\n",
      "Mean Distance: 4.492012471082766, Sample Size: 6000, Cutoff Fraction: 0.7, Threshold: 3.1444087297579357\n",
      "(0, 1) (6000, 1)\n",
      "0 0 0 3000\n"
     ]
    },
    {
     "name": "stderr",
     "output_type": "stream",
     "text": [
      "\n",
      " 40%|████      | 4/10 [00:03<00:04,  1.30it/s]\u001b[A"
     ]
    },
    {
     "name": "stdout",
     "output_type": "stream",
     "text": [
      "(8000, 200)\n",
      "(8000, 200)\n",
      "Mean Distance: 4.494439573438051, Sample Size: 8000, Cutoff Fraction: 0.7, Threshold: 3.146107701406635\n",
      "(0, 1) (8000, 1)\n",
      "0 0 0 4000\n"
     ]
    },
    {
     "name": "stderr",
     "output_type": "stream",
     "text": [
      "\n",
      " 50%|█████     | 5/10 [00:04<00:05,  1.00s/it]\u001b[A"
     ]
    },
    {
     "name": "stdout",
     "output_type": "stream",
     "text": [
      "(10000, 200)\n",
      "(10000, 200)\n",
      "Mean Distance: 4.491824552212749, Sample Size: 10000, Cutoff Fraction: 0.7, Threshold: 3.144277186548924\n",
      "(0, 1) (10000, 1)\n",
      "0 0 0 5000\n"
     ]
    },
    {
     "name": "stderr",
     "output_type": "stream",
     "text": [
      "\n",
      " 60%|██████    | 6/10 [00:06<00:05,  1.25s/it]\u001b[A"
     ]
    },
    {
     "name": "stdout",
     "output_type": "stream",
     "text": [
      "(12000, 200)\n",
      "(12000, 200)\n",
      "Mean Distance: 4.492774942293987, Sample Size: 12000, Cutoff Fraction: 0.7, Threshold: 3.1449424596057907\n",
      "(0, 1) (12000, 1)\n",
      "0 0 0 6000\n"
     ]
    },
    {
     "name": "stderr",
     "output_type": "stream",
     "text": [
      "\n",
      " 70%|███████   | 7/10 [00:08<00:04,  1.52s/it]\u001b[A"
     ]
    },
    {
     "name": "stdout",
     "output_type": "stream",
     "text": [
      "(14000, 200)\n",
      "(14000, 200)\n",
      "Mean Distance: 4.493650244326909, Sample Size: 14000, Cutoff Fraction: 0.7, Threshold: 3.145555171028836\n",
      "(0, 1) (14000, 1)\n",
      "0 0 0 7000\n"
     ]
    },
    {
     "name": "stderr",
     "output_type": "stream",
     "text": [
      "\n",
      " 80%|████████  | 8/10 [00:11<00:03,  1.80s/it]\u001b[A"
     ]
    },
    {
     "name": "stdout",
     "output_type": "stream",
     "text": [
      "(16000, 200)\n",
      "(16000, 200)\n",
      "Mean Distance: 4.493564838575671, Sample Size: 16000, Cutoff Fraction: 0.7, Threshold: 3.1454953870029696\n",
      "(0, 1) (16000, 1)\n",
      "0 0 0 8000\n"
     ]
    },
    {
     "name": "stderr",
     "output_type": "stream",
     "text": [
      "\n",
      " 90%|█████████ | 9/10 [00:13<00:02,  2.10s/it]\u001b[A"
     ]
    },
    {
     "name": "stdout",
     "output_type": "stream",
     "text": [
      "(18000, 200)\n",
      "(18000, 200)\n",
      "Mean Distance: 4.493588055944613, Sample Size: 18000, Cutoff Fraction: 0.7, Threshold: 3.1455116391612292\n",
      "(0, 1) (18000, 1)\n",
      "0 0 0 9000\n"
     ]
    },
    {
     "name": "stderr",
     "output_type": "stream",
     "text": [
      "\n",
      "100%|██████████| 10/10 [00:16<00:00,  1.70s/it]\n",
      "100%|██████████| 8/8 [02:16<00:00, 17.11s/it]"
     ]
    },
    {
     "name": "stdout",
     "output_type": "stream",
     "text": [
      "(20000, 200)\n",
      "(20000, 200)\n",
      "Mean Distance: 4.493554035574755, Sample Size: 20000, Cutoff Fraction: 0.7, Threshold: 3.1454878249023284\n",
      "(0, 1) (20000, 1)\n",
      "0 0 0 10000\n"
     ]
    },
    {
     "name": "stderr",
     "output_type": "stream",
     "text": [
      "\n"
     ]
    },
    {
     "data": {
      "image/png": "[encoded data removed]",
      "text/plain": [
       "<Figure size 576x288 with 2 Axes>"
      ]
     },
     "metadata": {
      "needs_background": "light",
      "tags": []
     },
     "output_type": "display_data"
    }
   ],
   "source": [
    "mia(train_data_0, train_data_1, test_data_0, test_data_1, gen_0, gen_1, results_dir)"
   ]
  }
 ],
 "metadata": {
  "accelerator": "GPU",
  "colab": {
   "collapsed_sections": [],
   "name": "membership_inference_attack.ipynb",
   "provenance": []
  },
  "kernelspec": {
   "display_name": "Python 3",
   "language": "python",
   "name": "python3"
  },
  "language_info": {
   "codemirror_mode": {
    "name": "ipython",
    "version": 3
   },
   "file_extension": ".py",
   "mimetype": "text/x-python",
   "name": "python",
   "nbconvert_exporter": "python",
   "pygments_lexer": "ipython3",
   "version": "3.8.3"
  }
 },
 "nbformat": 4,
 "nbformat_minor": 1
}
